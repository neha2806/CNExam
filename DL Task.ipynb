{
 "cells": [
  {
   "cell_type": "markdown",
   "id": "44e14828",
   "metadata": {},
   "source": [
    "Task2 DL for image generator"
   ]
  },
  {
   "cell_type": "code",
   "execution_count": 1,
   "id": "009a367e",
   "metadata": {},
   "outputs": [],
   "source": [
    "import tensorflow as tf\n",
    "from tensorflow.keras.preprocessing.image import ImageDataGenerator\n"
   ]
  },
  {
   "cell_type": "code",
   "execution_count": 2,
   "id": "714a8330",
   "metadata": {},
   "outputs": [],
   "source": [
    "# Create Image \n",
    "IMG_HEIGHT, IMG_WIDTH = 224, 224\n",
    "BATCH_SIZE = 32\n"
   ]
  },
  {
   "cell_type": "code",
   "execution_count": 3,
   "id": "367d9d90",
   "metadata": {},
   "outputs": [],
   "source": [
    "# Data generator with augment\n",
    "datagen = ImageDataGenerator(\n",
    "    rescale=1./255,            # Normalize pixel values to [0,1]\n",
    "    rotation_range=40,         # Random rotation\n",
    "    horizontal_flip=True       # Random horizontal flipping\n",
    ")\n"
   ]
  }
 ],
 "metadata": {
  "kernelspec": {
   "display_name": "Python 3",
   "language": "python",
   "name": "python3"
  },
  "language_info": {
   "codemirror_mode": {
    "name": "ipython",
    "version": 3
   },
   "file_extension": ".py",
   "mimetype": "text/x-python",
   "name": "python",
   "nbconvert_exporter": "python",
   "pygments_lexer": "ipython3",
   "version": "3.12.6"
  }
 },
 "nbformat": 4,
 "nbformat_minor": 5
}
