{
 "cells": [
  {
   "cell_type": "code",
   "execution_count": 1,
   "id": "7624a67c",
   "metadata": {},
   "outputs": [],
   "source": [
    "#import libraries\n",
    "import pandas as pd\n",
    "import numpy as np"
   ]
  },
  {
   "cell_type": "code",
   "execution_count": 5,
   "id": "7c4d1454",
   "metadata": {},
   "outputs": [],
   "source": [
    "data = pd.read_csv('Churndata.csv')"
   ]
  },
  {
   "cell_type": "code",
   "execution_count": null,
   "id": "d4a6f283",
   "metadata": {},
   "outputs": [
    {
     "data": {
      "text/html": [
       "<div>\n",
       "<style scoped>\n",
       "    .dataframe tbody tr th:only-of-type {\n",
       "        vertical-align: middle;\n",
       "    }\n",
       "\n",
       "    .dataframe tbody tr th {\n",
       "        vertical-align: top;\n",
       "    }\n",
       "\n",
       "    .dataframe thead th {\n",
       "        text-align: right;\n",
       "    }\n",
       "</style>\n",
       "<table border=\"1\" class=\"dataframe\">\n",
       "  <thead>\n",
       "    <tr style=\"text-align: right;\">\n",
       "      <th></th>\n",
       "      <th>CustomerID</th>\n",
       "      <th>Gender</th>\n",
       "      <th>Age</th>\n",
       "      <th>SignupDate</th>\n",
       "      <th>LastPurchaseDate</th>\n",
       "      <th>MonthlySpend</th>\n",
       "      <th>ContractType</th>\n",
       "      <th>Country</th>\n",
       "      <th>Churn</th>\n",
       "    </tr>\n",
       "  </thead>\n",
       "  <tbody>\n",
       "    <tr>\n",
       "      <th>0</th>\n",
       "      <td>CUST-0001</td>\n",
       "      <td>Female</td>\n",
       "      <td>20.0</td>\n",
       "      <td>07-01-2023</td>\n",
       "      <td>04-04-2025</td>\n",
       "      <td>1625.01</td>\n",
       "      <td>Quarterly</td>\n",
       "      <td>UK</td>\n",
       "      <td>0</td>\n",
       "    </tr>\n",
       "    <tr>\n",
       "      <th>1</th>\n",
       "      <td>CUST-0002</td>\n",
       "      <td>Female</td>\n",
       "      <td>33.0</td>\n",
       "      <td>22-10-2020</td>\n",
       "      <td>14-07-2024</td>\n",
       "      <td>3395.11</td>\n",
       "      <td>Monthly</td>\n",
       "      <td>India</td>\n",
       "      <td>1</td>\n",
       "    </tr>\n",
       "    <tr>\n",
       "      <th>2</th>\n",
       "      <td>CUST-0003</td>\n",
       "      <td>Female</td>\n",
       "      <td>40.0</td>\n",
       "      <td>03-03-2023</td>\n",
       "      <td>06-11-2024</td>\n",
       "      <td>1592.27</td>\n",
       "      <td>Annual</td>\n",
       "      <td>India</td>\n",
       "      <td>0</td>\n",
       "    </tr>\n",
       "    <tr>\n",
       "      <th>3</th>\n",
       "      <td>CUST-0004</td>\n",
       "      <td>Female</td>\n",
       "      <td>50.0</td>\n",
       "      <td>25-11-2020</td>\n",
       "      <td>14-10-2024</td>\n",
       "      <td>2015.18</td>\n",
       "      <td>Monthly</td>\n",
       "      <td>USA</td>\n",
       "      <td>0</td>\n",
       "    </tr>\n",
       "    <tr>\n",
       "      <th>4</th>\n",
       "      <td>CUST-0005</td>\n",
       "      <td>Male</td>\n",
       "      <td>33.0</td>\n",
       "      <td>26-06-2022</td>\n",
       "      <td>29-12-2024</td>\n",
       "      <td>1472.24</td>\n",
       "      <td>Monthly</td>\n",
       "      <td>USA</td>\n",
       "      <td>1</td>\n",
       "    </tr>\n",
       "  </tbody>\n",
       "</table>\n",
       "</div>"
      ],
      "text/plain": [
       "  CustomerID  Gender   Age  SignupDate LastPurchaseDate  MonthlySpend  \\\n",
       "0  CUST-0001  Female  20.0  07-01-2023       04-04-2025       1625.01   \n",
       "1  CUST-0002  Female  33.0  22-10-2020       14-07-2024       3395.11   \n",
       "2  CUST-0003  Female  40.0  03-03-2023       06-11-2024       1592.27   \n",
       "3  CUST-0004  Female  50.0  25-11-2020       14-10-2024       2015.18   \n",
       "4  CUST-0005    Male  33.0  26-06-2022       29-12-2024       1472.24   \n",
       "\n",
       "  ContractType Country  Churn  \n",
       "0    Quarterly      UK      0  \n",
       "1      Monthly   India      1  \n",
       "2       Annual   India      0  \n",
       "3      Monthly     USA      0  \n",
       "4      Monthly     USA      1  "
      ]
     },
     "execution_count": 9,
     "metadata": {},
     "output_type": "execute_result"
    }
   ],
   "source": [
    "#Show sample data\n",
    "data.head()"
   ]
  },
  {
   "cell_type": "code",
   "execution_count": 31,
   "id": "3bc47b07",
   "metadata": {},
   "outputs": [
    {
     "data": {
      "text/plain": [
       "CustomerID          0\n",
       "Gender              0\n",
       "Age                 0\n",
       "SignupDate          0\n",
       "LastPurchaseDate    0\n",
       "MonthlySpend        0\n",
       "ContractType        0\n",
       "Country             0\n",
       "Churn               0\n",
       "dtype: int64"
      ]
     },
     "execution_count": 31,
     "metadata": {},
     "output_type": "execute_result"
    }
   ],
   "source": [
    "#show null columns\n",
    "data.isnull().sum()"
   ]
  },
  {
   "cell_type": "code",
   "execution_count": 13,
   "id": "904f7d41",
   "metadata": {},
   "outputs": [
    {
     "data": {
      "text/plain": [
       "CustomerID          0.0\n",
       "Gender              0.0\n",
       "Age                 3.0\n",
       "SignupDate          0.0\n",
       "LastPurchaseDate    0.0\n",
       "MonthlySpend        5.0\n",
       "ContractType        0.0\n",
       "Country             0.0\n",
       "Churn               0.0\n",
       "dtype: float64"
      ]
     },
     "execution_count": 13,
     "metadata": {},
     "output_type": "execute_result"
    }
   ],
   "source": [
    "data.isnull().mean() * 100"
   ]
  },
  {
   "cell_type": "markdown",
   "id": "dd7f6633",
   "metadata": {},
   "source": [
    "Age has 3 missing values and monthlyspend has 5. Total 8 rows have missing data. We will impute them and fill them with Mean."
   ]
  },
  {
   "cell_type": "code",
   "execution_count": 19,
   "id": "a30d09c0",
   "metadata": {},
   "outputs": [
    {
     "data": {
      "text/html": [
       "<div>\n",
       "<style scoped>\n",
       "    .dataframe tbody tr th:only-of-type {\n",
       "        vertical-align: middle;\n",
       "    }\n",
       "\n",
       "    .dataframe tbody tr th {\n",
       "        vertical-align: top;\n",
       "    }\n",
       "\n",
       "    .dataframe thead th {\n",
       "        text-align: right;\n",
       "    }\n",
       "</style>\n",
       "<table border=\"1\" class=\"dataframe\">\n",
       "  <thead>\n",
       "    <tr style=\"text-align: right;\">\n",
       "      <th></th>\n",
       "      <th>Age</th>\n",
       "      <th>MonthlySpend</th>\n",
       "      <th>Churn</th>\n",
       "    </tr>\n",
       "  </thead>\n",
       "  <tbody>\n",
       "    <tr>\n",
       "      <th>count</th>\n",
       "      <td>97.000000</td>\n",
       "      <td>95.000000</td>\n",
       "      <td>100.000000</td>\n",
       "    </tr>\n",
       "    <tr>\n",
       "      <th>mean</th>\n",
       "      <td>38.164948</td>\n",
       "      <td>2184.706842</td>\n",
       "      <td>0.350000</td>\n",
       "    </tr>\n",
       "    <tr>\n",
       "      <th>std</th>\n",
       "      <td>13.699666</td>\n",
       "      <td>1254.952965</td>\n",
       "      <td>0.479372</td>\n",
       "    </tr>\n",
       "    <tr>\n",
       "      <th>min</th>\n",
       "      <td>18.000000</td>\n",
       "      <td>996.360000</td>\n",
       "      <td>0.000000</td>\n",
       "    </tr>\n",
       "    <tr>\n",
       "      <th>25%</th>\n",
       "      <td>26.000000</td>\n",
       "      <td>1683.775000</td>\n",
       "      <td>0.000000</td>\n",
       "    </tr>\n",
       "    <tr>\n",
       "      <th>50%</th>\n",
       "      <td>37.000000</td>\n",
       "      <td>2003.620000</td>\n",
       "      <td>0.000000</td>\n",
       "    </tr>\n",
       "    <tr>\n",
       "      <th>75%</th>\n",
       "      <td>50.000000</td>\n",
       "      <td>2389.725000</td>\n",
       "      <td>1.000000</td>\n",
       "    </tr>\n",
       "    <tr>\n",
       "      <th>max</th>\n",
       "      <td>63.000000</td>\n",
       "      <td>10000.000000</td>\n",
       "      <td>1.000000</td>\n",
       "    </tr>\n",
       "  </tbody>\n",
       "</table>\n",
       "</div>"
      ],
      "text/plain": [
       "             Age  MonthlySpend       Churn\n",
       "count  97.000000     95.000000  100.000000\n",
       "mean   38.164948   2184.706842    0.350000\n",
       "std    13.699666   1254.952965    0.479372\n",
       "min    18.000000    996.360000    0.000000\n",
       "25%    26.000000   1683.775000    0.000000\n",
       "50%    37.000000   2003.620000    0.000000\n",
       "75%    50.000000   2389.725000    1.000000\n",
       "max    63.000000  10000.000000    1.000000"
      ]
     },
     "execution_count": 19,
     "metadata": {},
     "output_type": "execute_result"
    }
   ],
   "source": [
    "data.describe()"
   ]
  },
  {
   "cell_type": "code",
   "execution_count": null,
   "id": "a5eca229",
   "metadata": {},
   "outputs": [
    {
     "name": "stderr",
     "output_type": "stream",
     "text": [
      "C:\\Users\\nehag\\AppData\\Local\\Temp\\ipykernel_11492\\1875394436.py:1: FutureWarning: A value is trying to be set on a copy of a DataFrame or Series through chained assignment using an inplace method.\n",
      "The behavior will change in pandas 3.0. This inplace method will never work because the intermediate object on which we are setting values always behaves as a copy.\n",
      "\n",
      "For example, when doing 'df[col].method(value, inplace=True)', try using 'df.method({col: value}, inplace=True)' or df[col] = df[col].method(value) instead, to perform the operation inplace on the original object.\n",
      "\n",
      "\n",
      "  df=data['Age'].fillna(data['Age'].mean(),inplace =True)\n"
     ]
    }
   ],
   "source": [
    "data['Age'].fillna(data['Age'].mean(),inplace =True)"
   ]
  },
  {
   "cell_type": "code",
   "execution_count": 30,
   "id": "34eee5fa",
   "metadata": {},
   "outputs": [
    {
     "name": "stderr",
     "output_type": "stream",
     "text": [
      "C:\\Users\\nehag\\AppData\\Local\\Temp\\ipykernel_11492\\2808906594.py:1: FutureWarning: A value is trying to be set on a copy of a DataFrame or Series through chained assignment using an inplace method.\n",
      "The behavior will change in pandas 3.0. This inplace method will never work because the intermediate object on which we are setting values always behaves as a copy.\n",
      "\n",
      "For example, when doing 'df[col].method(value, inplace=True)', try using 'df.method({col: value}, inplace=True)' or df[col] = df[col].method(value) instead, to perform the operation inplace on the original object.\n",
      "\n",
      "\n",
      "  data['MonthlySpend'].fillna(data['MonthlySpend'].mean(),inplace =True)\n"
     ]
    }
   ],
   "source": [
    "data['MonthlySpend'].fillna(data['MonthlySpend'].mean(),inplace =True)"
   ]
  },
  {
   "cell_type": "markdown",
   "id": "c04a314b",
   "metadata": {},
   "source": [
    "Customer ID is not required, we will drop it. "
   ]
  },
  {
   "cell_type": "code",
   "execution_count": 33,
   "id": "24516563",
   "metadata": {},
   "outputs": [],
   "source": [
    "data = data.drop('CustomerID', axis =1)"
   ]
  },
  {
   "cell_type": "code",
   "execution_count": 34,
   "id": "d9d6b822",
   "metadata": {},
   "outputs": [
    {
     "data": {
      "text/html": [
       "<div>\n",
       "<style scoped>\n",
       "    .dataframe tbody tr th:only-of-type {\n",
       "        vertical-align: middle;\n",
       "    }\n",
       "\n",
       "    .dataframe tbody tr th {\n",
       "        vertical-align: top;\n",
       "    }\n",
       "\n",
       "    .dataframe thead th {\n",
       "        text-align: right;\n",
       "    }\n",
       "</style>\n",
       "<table border=\"1\" class=\"dataframe\">\n",
       "  <thead>\n",
       "    <tr style=\"text-align: right;\">\n",
       "      <th></th>\n",
       "      <th>Gender</th>\n",
       "      <th>Age</th>\n",
       "      <th>SignupDate</th>\n",
       "      <th>LastPurchaseDate</th>\n",
       "      <th>MonthlySpend</th>\n",
       "      <th>ContractType</th>\n",
       "      <th>Country</th>\n",
       "      <th>Churn</th>\n",
       "    </tr>\n",
       "  </thead>\n",
       "  <tbody>\n",
       "    <tr>\n",
       "      <th>0</th>\n",
       "      <td>Female</td>\n",
       "      <td>20.0</td>\n",
       "      <td>07-01-2023</td>\n",
       "      <td>04-04-2025</td>\n",
       "      <td>1625.01</td>\n",
       "      <td>Quarterly</td>\n",
       "      <td>UK</td>\n",
       "      <td>0</td>\n",
       "    </tr>\n",
       "    <tr>\n",
       "      <th>1</th>\n",
       "      <td>Female</td>\n",
       "      <td>33.0</td>\n",
       "      <td>22-10-2020</td>\n",
       "      <td>14-07-2024</td>\n",
       "      <td>3395.11</td>\n",
       "      <td>Monthly</td>\n",
       "      <td>India</td>\n",
       "      <td>1</td>\n",
       "    </tr>\n",
       "    <tr>\n",
       "      <th>2</th>\n",
       "      <td>Female</td>\n",
       "      <td>40.0</td>\n",
       "      <td>03-03-2023</td>\n",
       "      <td>06-11-2024</td>\n",
       "      <td>1592.27</td>\n",
       "      <td>Annual</td>\n",
       "      <td>India</td>\n",
       "      <td>0</td>\n",
       "    </tr>\n",
       "    <tr>\n",
       "      <th>3</th>\n",
       "      <td>Female</td>\n",
       "      <td>50.0</td>\n",
       "      <td>25-11-2020</td>\n",
       "      <td>14-10-2024</td>\n",
       "      <td>2015.18</td>\n",
       "      <td>Monthly</td>\n",
       "      <td>USA</td>\n",
       "      <td>0</td>\n",
       "    </tr>\n",
       "    <tr>\n",
       "      <th>4</th>\n",
       "      <td>Male</td>\n",
       "      <td>33.0</td>\n",
       "      <td>26-06-2022</td>\n",
       "      <td>29-12-2024</td>\n",
       "      <td>1472.24</td>\n",
       "      <td>Monthly</td>\n",
       "      <td>USA</td>\n",
       "      <td>1</td>\n",
       "    </tr>\n",
       "    <tr>\n",
       "      <th>...</th>\n",
       "      <td>...</td>\n",
       "      <td>...</td>\n",
       "      <td>...</td>\n",
       "      <td>...</td>\n",
       "      <td>...</td>\n",
       "      <td>...</td>\n",
       "      <td>...</td>\n",
       "      <td>...</td>\n",
       "    </tr>\n",
       "    <tr>\n",
       "      <th>95</th>\n",
       "      <td>Male</td>\n",
       "      <td>35.0</td>\n",
       "      <td>18-06-2022</td>\n",
       "      <td>07-01-2025</td>\n",
       "      <td>1033.15</td>\n",
       "      <td>Monthly</td>\n",
       "      <td>UK</td>\n",
       "      <td>0</td>\n",
       "    </tr>\n",
       "    <tr>\n",
       "      <th>96</th>\n",
       "      <td>Male</td>\n",
       "      <td>58.0</td>\n",
       "      <td>18-11-2020</td>\n",
       "      <td>18-12-2024</td>\n",
       "      <td>2760.64</td>\n",
       "      <td>Quarterly</td>\n",
       "      <td>Germany</td>\n",
       "      <td>0</td>\n",
       "    </tr>\n",
       "    <tr>\n",
       "      <th>97</th>\n",
       "      <td>Female</td>\n",
       "      <td>41.0</td>\n",
       "      <td>25-08-2022</td>\n",
       "      <td>15-03-2025</td>\n",
       "      <td>2454.69</td>\n",
       "      <td>Monthly</td>\n",
       "      <td>Germany</td>\n",
       "      <td>1</td>\n",
       "    </tr>\n",
       "    <tr>\n",
       "      <th>98</th>\n",
       "      <td>Male</td>\n",
       "      <td>51.0</td>\n",
       "      <td>17-05-2024</td>\n",
       "      <td>25-04-2025</td>\n",
       "      <td>1838.53</td>\n",
       "      <td>Monthly</td>\n",
       "      <td>India</td>\n",
       "      <td>1</td>\n",
       "    </tr>\n",
       "    <tr>\n",
       "      <th>99</th>\n",
       "      <td>Male</td>\n",
       "      <td>54.0</td>\n",
       "      <td>11-07-2022</td>\n",
       "      <td>21-11-2024</td>\n",
       "      <td>1598.54</td>\n",
       "      <td>Monthly</td>\n",
       "      <td>Germany</td>\n",
       "      <td>0</td>\n",
       "    </tr>\n",
       "  </tbody>\n",
       "</table>\n",
       "<p>100 rows × 8 columns</p>\n",
       "</div>"
      ],
      "text/plain": [
       "    Gender   Age  SignupDate LastPurchaseDate  MonthlySpend ContractType  \\\n",
       "0   Female  20.0  07-01-2023       04-04-2025       1625.01    Quarterly   \n",
       "1   Female  33.0  22-10-2020       14-07-2024       3395.11      Monthly   \n",
       "2   Female  40.0  03-03-2023       06-11-2024       1592.27       Annual   \n",
       "3   Female  50.0  25-11-2020       14-10-2024       2015.18      Monthly   \n",
       "4     Male  33.0  26-06-2022       29-12-2024       1472.24      Monthly   \n",
       "..     ...   ...         ...              ...           ...          ...   \n",
       "95    Male  35.0  18-06-2022       07-01-2025       1033.15      Monthly   \n",
       "96    Male  58.0  18-11-2020       18-12-2024       2760.64    Quarterly   \n",
       "97  Female  41.0  25-08-2022       15-03-2025       2454.69      Monthly   \n",
       "98    Male  51.0  17-05-2024       25-04-2025       1838.53      Monthly   \n",
       "99    Male  54.0  11-07-2022       21-11-2024       1598.54      Monthly   \n",
       "\n",
       "    Country  Churn  \n",
       "0        UK      0  \n",
       "1     India      1  \n",
       "2     India      0  \n",
       "3       USA      0  \n",
       "4       USA      1  \n",
       "..      ...    ...  \n",
       "95       UK      0  \n",
       "96  Germany      0  \n",
       "97  Germany      1  \n",
       "98    India      1  \n",
       "99  Germany      0  \n",
       "\n",
       "[100 rows x 8 columns]"
      ]
     },
     "execution_count": 34,
     "metadata": {},
     "output_type": "execute_result"
    }
   ],
   "source": [
    "data"
   ]
  },
  {
   "cell_type": "code",
   "execution_count": null,
   "id": "74e15157",
   "metadata": {},
   "outputs": [
    {
     "data": {
      "text/plain": [
       "Gender\n",
       "Male      54\n",
       "Female    46\n",
       "Name: count, dtype: int64"
      ]
     },
     "execution_count": 35,
     "metadata": {},
     "output_type": "execute_result"
    }
   ],
   "source": [
    "#Finding unique values for categorical columns:\n",
    "data['Gender'].value_counts()  #Male, Female"
   ]
  },
  {
   "cell_type": "code",
   "execution_count": 37,
   "id": "9a7ff986",
   "metadata": {},
   "outputs": [
    {
     "data": {
      "text/plain": [
       "ContractType\n",
       "Quarterly    36\n",
       "Monthly      35\n",
       "Annual       29\n",
       "Name: count, dtype: int64"
      ]
     },
     "execution_count": 37,
     "metadata": {},
     "output_type": "execute_result"
    }
   ],
   "source": [
    "data['ContractType'].value_counts()"
   ]
  },
  {
   "cell_type": "code",
   "execution_count": 38,
   "id": "4d84d889",
   "metadata": {},
   "outputs": [
    {
     "data": {
      "text/plain": [
       "Country\n",
       "India      29\n",
       "USA        26\n",
       "Germany    23\n",
       "UK         22\n",
       "Name: count, dtype: int64"
      ]
     },
     "execution_count": 38,
     "metadata": {},
     "output_type": "execute_result"
    }
   ],
   "source": [
    "data['Country'].value_counts()"
   ]
  },
  {
   "cell_type": "markdown",
   "id": "b624f845",
   "metadata": {},
   "source": [
    "Encoding categorical columns"
   ]
  },
  {
   "cell_type": "code",
   "execution_count": 41,
   "id": "b3577395",
   "metadata": {},
   "outputs": [],
   "source": [
    "data['Gender'] = data['Gender'].map({'Male': 0, 'Female': 1})"
   ]
  },
  {
   "cell_type": "code",
   "execution_count": 43,
   "id": "ad853421",
   "metadata": {},
   "outputs": [],
   "source": [
    "data['ContractType'] = data['ContractType'].map({'Quarterly': 0, 'Monthly': 1, 'Annual': 2})"
   ]
  },
  {
   "cell_type": "code",
   "execution_count": 44,
   "id": "e8013c21",
   "metadata": {},
   "outputs": [],
   "source": [
    "data['Country'] = data['Country'].map({'India': 0, 'USA': 1, 'Germany': 2, 'UK':3})"
   ]
  },
  {
   "cell_type": "code",
   "execution_count": 45,
   "id": "2fe1f264",
   "metadata": {},
   "outputs": [
    {
     "data": {
      "text/html": [
       "<div>\n",
       "<style scoped>\n",
       "    .dataframe tbody tr th:only-of-type {\n",
       "        vertical-align: middle;\n",
       "    }\n",
       "\n",
       "    .dataframe tbody tr th {\n",
       "        vertical-align: top;\n",
       "    }\n",
       "\n",
       "    .dataframe thead th {\n",
       "        text-align: right;\n",
       "    }\n",
       "</style>\n",
       "<table border=\"1\" class=\"dataframe\">\n",
       "  <thead>\n",
       "    <tr style=\"text-align: right;\">\n",
       "      <th></th>\n",
       "      <th>Gender</th>\n",
       "      <th>Age</th>\n",
       "      <th>SignupDate</th>\n",
       "      <th>LastPurchaseDate</th>\n",
       "      <th>MonthlySpend</th>\n",
       "      <th>ContractType</th>\n",
       "      <th>Country</th>\n",
       "      <th>Churn</th>\n",
       "    </tr>\n",
       "  </thead>\n",
       "  <tbody>\n",
       "    <tr>\n",
       "      <th>0</th>\n",
       "      <td>1</td>\n",
       "      <td>20.0</td>\n",
       "      <td>07-01-2023</td>\n",
       "      <td>04-04-2025</td>\n",
       "      <td>1625.01</td>\n",
       "      <td>0</td>\n",
       "      <td>3</td>\n",
       "      <td>0</td>\n",
       "    </tr>\n",
       "    <tr>\n",
       "      <th>1</th>\n",
       "      <td>1</td>\n",
       "      <td>33.0</td>\n",
       "      <td>22-10-2020</td>\n",
       "      <td>14-07-2024</td>\n",
       "      <td>3395.11</td>\n",
       "      <td>1</td>\n",
       "      <td>0</td>\n",
       "      <td>1</td>\n",
       "    </tr>\n",
       "    <tr>\n",
       "      <th>2</th>\n",
       "      <td>1</td>\n",
       "      <td>40.0</td>\n",
       "      <td>03-03-2023</td>\n",
       "      <td>06-11-2024</td>\n",
       "      <td>1592.27</td>\n",
       "      <td>2</td>\n",
       "      <td>0</td>\n",
       "      <td>0</td>\n",
       "    </tr>\n",
       "    <tr>\n",
       "      <th>3</th>\n",
       "      <td>1</td>\n",
       "      <td>50.0</td>\n",
       "      <td>25-11-2020</td>\n",
       "      <td>14-10-2024</td>\n",
       "      <td>2015.18</td>\n",
       "      <td>1</td>\n",
       "      <td>1</td>\n",
       "      <td>0</td>\n",
       "    </tr>\n",
       "    <tr>\n",
       "      <th>4</th>\n",
       "      <td>0</td>\n",
       "      <td>33.0</td>\n",
       "      <td>26-06-2022</td>\n",
       "      <td>29-12-2024</td>\n",
       "      <td>1472.24</td>\n",
       "      <td>1</td>\n",
       "      <td>1</td>\n",
       "      <td>1</td>\n",
       "    </tr>\n",
       "    <tr>\n",
       "      <th>...</th>\n",
       "      <td>...</td>\n",
       "      <td>...</td>\n",
       "      <td>...</td>\n",
       "      <td>...</td>\n",
       "      <td>...</td>\n",
       "      <td>...</td>\n",
       "      <td>...</td>\n",
       "      <td>...</td>\n",
       "    </tr>\n",
       "    <tr>\n",
       "      <th>95</th>\n",
       "      <td>0</td>\n",
       "      <td>35.0</td>\n",
       "      <td>18-06-2022</td>\n",
       "      <td>07-01-2025</td>\n",
       "      <td>1033.15</td>\n",
       "      <td>1</td>\n",
       "      <td>3</td>\n",
       "      <td>0</td>\n",
       "    </tr>\n",
       "    <tr>\n",
       "      <th>96</th>\n",
       "      <td>0</td>\n",
       "      <td>58.0</td>\n",
       "      <td>18-11-2020</td>\n",
       "      <td>18-12-2024</td>\n",
       "      <td>2760.64</td>\n",
       "      <td>0</td>\n",
       "      <td>2</td>\n",
       "      <td>0</td>\n",
       "    </tr>\n",
       "    <tr>\n",
       "      <th>97</th>\n",
       "      <td>1</td>\n",
       "      <td>41.0</td>\n",
       "      <td>25-08-2022</td>\n",
       "      <td>15-03-2025</td>\n",
       "      <td>2454.69</td>\n",
       "      <td>1</td>\n",
       "      <td>2</td>\n",
       "      <td>1</td>\n",
       "    </tr>\n",
       "    <tr>\n",
       "      <th>98</th>\n",
       "      <td>0</td>\n",
       "      <td>51.0</td>\n",
       "      <td>17-05-2024</td>\n",
       "      <td>25-04-2025</td>\n",
       "      <td>1838.53</td>\n",
       "      <td>1</td>\n",
       "      <td>0</td>\n",
       "      <td>1</td>\n",
       "    </tr>\n",
       "    <tr>\n",
       "      <th>99</th>\n",
       "      <td>0</td>\n",
       "      <td>54.0</td>\n",
       "      <td>11-07-2022</td>\n",
       "      <td>21-11-2024</td>\n",
       "      <td>1598.54</td>\n",
       "      <td>1</td>\n",
       "      <td>2</td>\n",
       "      <td>0</td>\n",
       "    </tr>\n",
       "  </tbody>\n",
       "</table>\n",
       "<p>100 rows × 8 columns</p>\n",
       "</div>"
      ],
      "text/plain": [
       "    Gender   Age  SignupDate LastPurchaseDate  MonthlySpend  ContractType  \\\n",
       "0        1  20.0  07-01-2023       04-04-2025       1625.01             0   \n",
       "1        1  33.0  22-10-2020       14-07-2024       3395.11             1   \n",
       "2        1  40.0  03-03-2023       06-11-2024       1592.27             2   \n",
       "3        1  50.0  25-11-2020       14-10-2024       2015.18             1   \n",
       "4        0  33.0  26-06-2022       29-12-2024       1472.24             1   \n",
       "..     ...   ...         ...              ...           ...           ...   \n",
       "95       0  35.0  18-06-2022       07-01-2025       1033.15             1   \n",
       "96       0  58.0  18-11-2020       18-12-2024       2760.64             0   \n",
       "97       1  41.0  25-08-2022       15-03-2025       2454.69             1   \n",
       "98       0  51.0  17-05-2024       25-04-2025       1838.53             1   \n",
       "99       0  54.0  11-07-2022       21-11-2024       1598.54             1   \n",
       "\n",
       "    Country  Churn  \n",
       "0         3      0  \n",
       "1         0      1  \n",
       "2         0      0  \n",
       "3         1      0  \n",
       "4         1      1  \n",
       "..      ...    ...  \n",
       "95        3      0  \n",
       "96        2      0  \n",
       "97        2      1  \n",
       "98        0      1  \n",
       "99        2      0  \n",
       "\n",
       "[100 rows x 8 columns]"
      ]
     },
     "execution_count": 45,
     "metadata": {},
     "output_type": "execute_result"
    }
   ],
   "source": [
    "data"
   ]
  },
  {
   "cell_type": "markdown",
   "id": "677e6fe6",
   "metadata": {},
   "source": [
    "#Transforming datetime colums to numerical columns"
   ]
  },
  {
   "cell_type": "code",
   "execution_count": 55,
   "id": "2951825e",
   "metadata": {},
   "outputs": [],
   "source": [
    "data['LastPurchaseDate'] = pd.to_datetime(data['LastPurchaseDate'],dayfirst =True)"
   ]
  },
  {
   "cell_type": "code",
   "execution_count": 57,
   "id": "5b616869",
   "metadata": {},
   "outputs": [],
   "source": [
    "data['SignupDate'] = pd.to_datetime(data['SignupDate'],dayfirst =True)"
   ]
  },
  {
   "cell_type": "code",
   "execution_count": 59,
   "id": "1a73afca",
   "metadata": {},
   "outputs": [],
   "source": [
    "data['Pyear'] = data['LastPurchaseDate'].dt.year"
   ]
  },
  {
   "cell_type": "code",
   "execution_count": 61,
   "id": "0a35334a",
   "metadata": {},
   "outputs": [],
   "source": [
    "data['Pmonth'] = data['LastPurchaseDate'].dt.month"
   ]
  },
  {
   "cell_type": "code",
   "execution_count": 62,
   "id": "a5a790ac",
   "metadata": {},
   "outputs": [],
   "source": [
    "data['Syear'] = data['SignupDate'].dt.year"
   ]
  },
  {
   "cell_type": "code",
   "execution_count": 63,
   "id": "12d89292",
   "metadata": {},
   "outputs": [],
   "source": [
    "data['Smonth'] = data['SignupDate'].dt.month"
   ]
  },
  {
   "cell_type": "code",
   "execution_count": 64,
   "id": "2bef433e",
   "metadata": {},
   "outputs": [],
   "source": [
    "today = pd.Timestamp.today()"
   ]
  },
  {
   "cell_type": "code",
   "execution_count": null,
   "id": "b57e7da6",
   "metadata": {},
   "outputs": [],
   "source": [
    "#calculating customer's tenure(new feature)\n",
    "data['CustomerTenure'] = (today - data['SignupDate']).dt.days"
   ]
  },
  {
   "cell_type": "code",
   "execution_count": 67,
   "id": "bfc6ee30",
   "metadata": {},
   "outputs": [],
   "source": [
    "df = data.drop(['SignupDate','LastPurchaseDate'],axis =1)"
   ]
  },
  {
   "cell_type": "code",
   "execution_count": 71,
   "id": "517ccfc5",
   "metadata": {},
   "outputs": [],
   "source": [
    "#Split into train -test and scale the dataset\n",
    "X = df.drop(['Churn'],axis =1)\n",
    "y= df['Churn']"
   ]
  },
  {
   "cell_type": "code",
   "execution_count": 78,
   "id": "c2e665c2",
   "metadata": {},
   "outputs": [],
   "source": [
    "#import train test split\n",
    "from sklearn.model_selection import train_test_split\n",
    "from sklearn.preprocessing import StandardScaler"
   ]
  },
  {
   "cell_type": "code",
   "execution_count": 76,
   "id": "0c85a0e9",
   "metadata": {},
   "outputs": [],
   "source": [
    "X_train,X_test,y_train,y_test = train_test_split(X,y,test_size=0.2,random_state=42)"
   ]
  },
  {
   "cell_type": "code",
   "execution_count": 79,
   "id": "74c9f605",
   "metadata": {},
   "outputs": [],
   "source": [
    "scaler = StandardScaler()\n",
    "X_train_scaled = scaler.fit_transform(X_train)\n",
    "X_test_scaled = scaler.transform(X_test)"
   ]
  },
  {
   "cell_type": "markdown",
   "id": "817aad40",
   "metadata": {},
   "source": [
    "Handled Missing values and imputed with mean. \n",
    "Encoded categorical variables and scaled numerical features.\n",
    "Create feature such as customer tenure but feature for average spend does not make sense as it is monthly spend value per customer. "
   ]
  }
 ],
 "metadata": {
  "kernelspec": {
   "display_name": "machinelearningenv",
   "language": "python",
   "name": "python3"
  },
  "language_info": {
   "codemirror_mode": {
    "name": "ipython",
    "version": 3
   },
   "file_extension": ".py",
   "mimetype": "text/x-python",
   "name": "python",
   "nbconvert_exporter": "python",
   "pygments_lexer": "ipython3",
   "version": "3.12.9"
  }
 },
 "nbformat": 4,
 "nbformat_minor": 5
}
